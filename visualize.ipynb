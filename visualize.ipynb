{
 "cells": [
  {
   "cell_type": "code",
   "execution_count": 1,
   "metadata": {},
   "outputs": [],
   "source": [
    "val_files = [{\"image\": [\"Data_BRATS/BraTS2021_00000/BraTS2021_00000_t1ce.nii.gz\", \n",
    "                        \"Data_BRATS/BraTS2021_00000/BraTS2021_00000_t1.nii.gz\", \n",
    "                        \"Data_BRATS/BraTS2021_00000/BraTS2021_00000_t2.nii.gz\", \n",
    "                        \"Data_BRATS/BraTS2021_00000/BraTS2021_00000_flair.nii.gz\"], \n",
    "            \"label\": \"Data_BRATS/BraTS2021_00000/BraTS2021_00000_seg.nii.gz\"}]"
   ]
  },
  {
   "cell_type": "code",
   "execution_count": 2,
   "metadata": {},
   "outputs": [],
   "source": [
    "from monai.utils import set_determinism\n",
    "from monai.transforms import (\n",
    "    Compose,\n",
    "    LoadImaged,\n",
    "    ConvertToMultiChannelBasedOnBratsClassesd,\n",
    "    RandSpatialCropd,\n",
    "    RandFlipd,\n",
    "    MapTransform,\n",
    "    NormalizeIntensityd, \n",
    "    RandScaleIntensityd,\n",
    "    RandShiftIntensityd,\n",
    "    ToTensord,\n",
    "    CenterSpatialCropd,\n",
    ")\n",
    "from monai.data import DataLoader, Dataset\n",
    "import numpy as np\n",
    "import json\n",
    "class ConvertToMultiChannelBasedOnBratsClassesd(MapTransform):\n",
    "    \"\"\"\n",
    "    Convert labels to multi channels based on brats classes:\n",
    "    label 1 is the necrotic and non-enhancing tumor core\n",
    "    label 2 is the peritumoral edema\n",
    "    label 4 is the GD-enhancing tumor\n",
    "    The possible classes are TC (Tumor core), WT (Whole tumor)\n",
    "    and ET (Enhancing tumor).\n",
    "\n",
    "    \"\"\"\n",
    " \n",
    "    def __call__(self, data):\n",
    "        d = dict(data)\n",
    "        for key in self.keys:\n",
    "            result = []\n",
    "            # merge label 1 and label 4 to construct TC\n",
    "            result.append(np.logical_or(d[key] == 1, d[key] == 4))\n",
    "            # merge labels 1, 2 and 4 to construct WT\n",
    "            result.append(\n",
    "                np.logical_or(\n",
    "                    np.logical_or(d[key] == 1, d[key] == 4), d[key] == 2\n",
    "                )\n",
    "            )\n",
    "            # label 4 is ET\n",
    "            result.append(d[key] == 4)\n",
    "            d[key] = np.stack(result, axis=0).astype(np.float32)\n",
    "        return d\n",
    "val_transform = Compose(\n",
    "        [\n",
    "            LoadImaged(keys=[\"image\", \"label\"]),\n",
    "            ConvertToMultiChannelBasedOnBratsClassesd(\n",
    "                keys = ['label']),\n",
    "            CenterSpatialCropd(keys=[\"image\", \"label\"],\n",
    "                            roi_size = [128,128,128], \n",
    "                            ),\n",
    "            NormalizeIntensityd(keys = \"image\",\n",
    "                               nonzero = True,\n",
    "                               channel_wise = True),\n",
    "            ToTensord(keys=[\"image\", \"label\"]),\n",
    "        ]\n",
    "    )\n",
    "val_ds = Dataset(data=val_files, transform=val_transform)\n"
   ]
  },
  {
   "cell_type": "code",
   "execution_count": 3,
   "metadata": {},
   "outputs": [
    {
     "data": {
      "text/plain": [
       "torch.Size([1, 4, 128, 128, 128])"
      ]
     },
     "execution_count": 3,
     "metadata": {},
     "output_type": "execute_result"
    }
   ],
   "source": [
    "val_input = val_ds[0][\"image\"].unsqueeze(0)\n",
    "val_input.shape"
   ]
  },
  {
   "cell_type": "code",
   "execution_count": 4,
   "metadata": {},
   "outputs": [
    {
     "name": "stdout",
     "output_type": "stream",
     "text": [
      "4 1 2\n"
     ]
    },
    {
     "name": "stderr",
     "output_type": "stream",
     "text": [
      "`threshold_values=True/False` is deprecated, please use `threshold=value` instead.\n"
     ]
    },
    {
     "name": "stdout",
     "output_type": "stream",
     "text": [
      "torch.Size([1, 262144, 64]) 64 64 64\n",
      "torch.Size([1, 64, 64, 64, 64])\n",
      "torch.Size([1, 512, 64])\n",
      "torch.Size([1, 1, 262144, 64]) torch.Size([1, 1, 512, 64]) torch.Size([1, 1, 512, 64])\n",
      "torch.Size([1, 64, 64, 64, 64])\n",
      "torch.Size([1, 512, 64])\n",
      "torch.Size([1, 1, 262144, 64]) torch.Size([1, 1, 512, 64]) torch.Size([1, 1, 512, 64])\n",
      "torch.Size([1, 32768, 128]) 32 32 32\n",
      "torch.Size([1, 128, 32, 32, 32])\n",
      "torch.Size([1, 512, 128])\n",
      "torch.Size([1, 2, 32768, 64]) torch.Size([1, 2, 512, 64]) torch.Size([1, 2, 512, 64])\n",
      "torch.Size([1, 128, 32, 32, 32])\n",
      "torch.Size([1, 512, 128])\n",
      "torch.Size([1, 2, 32768, 64]) torch.Size([1, 2, 512, 64]) torch.Size([1, 2, 512, 64])\n",
      "torch.Size([1, 4096, 320]) 16 16 16\n",
      "torch.Size([1, 320, 16, 16, 16])\n",
      "torch.Size([1, 512, 320])\n",
      "torch.Size([1, 5, 4096, 64]) torch.Size([1, 5, 512, 64]) torch.Size([1, 5, 512, 64])\n",
      "torch.Size([1, 320, 16, 16, 16])\n",
      "torch.Size([1, 512, 320])\n",
      "torch.Size([1, 5, 4096, 64]) torch.Size([1, 5, 512, 64]) torch.Size([1, 5, 512, 64])\n",
      "torch.Size([1, 512, 512]) 8 8 8\n",
      "torch.Size([1, 8, 512, 64]) torch.Size([1, 8, 512, 64]) torch.Size([1, 8, 512, 64])\n",
      "torch.Size([1, 8, 512, 64]) torch.Size([1, 8, 512, 64]) torch.Size([1, 8, 512, 64])\n",
      "torch.Size([1, 3, 128, 128, 128]) 4\n"
     ]
    }
   ],
   "source": [
    "from pytorch_lightning.callbacks import ModelCheckpoint, EarlyStopping\n",
    "import pytorch_lightning as pl\n",
    "from trainer import BRATS\n",
    "import os \n",
    "from pytorch_lightning.loggers import TensorBoardLogger\n",
    "import argparse\n",
    "import torch\n",
    "\n",
    "model = BRATS(return_attn = True)\n",
    "weights = torch.load('Epoch 89-MeanDiceScore0.8897.ckpt', map_location='cpu')\n",
    "model.load_state_dict(weights['state_dict'], strict = True)\n",
    "out, attn = model(val_input)\n",
    "print(out.shape, len(attn))\n"
   ]
  },
  {
   "cell_type": "code",
   "execution_count": 28,
   "metadata": {},
   "outputs": [
    {
     "name": "stdout",
     "output_type": "stream",
     "text": [
      "torch.Size([1, 1, 262144, 512])\n",
      "torch.Size([1, 2, 32768, 512])\n",
      "torch.Size([1, 5, 4096, 512])\n",
      "torch.Size([1, 8, 512, 512])\n"
     ]
    }
   ],
   "source": [
    "for x in attn:\n",
    "    print(x.shape)"
   ]
  },
  {
   "cell_type": "code",
   "execution_count": 31,
   "metadata": {},
   "outputs": [
    {
     "name": "stdout",
     "output_type": "stream",
     "text": [
      "torch.Size([1, 1, 262144, 512])\n",
      "torch.Size([1, 134217728])\n"
     ]
    }
   ],
   "source": [
    "attentions = attn[0]\n",
    "nh = attentions.shape[1] # number of head\n",
    "print(attentions.shape)\n",
    "# we keep only the output patch attention\n",
    "attentions = attentions[0, :, :, :].reshape(nh, -1)\n",
    "print(attentions.shape)"
   ]
  },
  {
   "cell_type": "code",
   "execution_count": 33,
   "metadata": {},
   "outputs": [
    {
     "ename": "NotImplementedError",
     "evalue": "Input Error: Only 3D, 4D and 5D input Tensors supported (got 6D) for the modes: nearest | linear | bilinear | bicubic | trilinear | area | nearest-exact (got nearest)",
     "output_type": "error",
     "traceback": [
      "\u001b[0;31m---------------------------------------------------------------------------\u001b[0m",
      "\u001b[0;31mNotImplementedError\u001b[0m                       Traceback (most recent call last)",
      "\u001b[0;32m/var/folders/6r/fv4p5mt52h5b_3ylc12qcf0m0000gn/T/ipykernel_1312/1646171653.py\u001b[0m in \u001b[0;36m<module>\u001b[0;34m\u001b[0m\n\u001b[1;32m      1\u001b[0m \u001b[0;32mimport\u001b[0m \u001b[0mtorch\u001b[0m\u001b[0;34m.\u001b[0m\u001b[0mnn\u001b[0m \u001b[0;32mas\u001b[0m \u001b[0mnn\u001b[0m\u001b[0;34m\u001b[0m\u001b[0;34m\u001b[0m\u001b[0m\n\u001b[1;32m      2\u001b[0m \u001b[0mattentions\u001b[0m \u001b[0;34m=\u001b[0m \u001b[0mattentions\u001b[0m\u001b[0;34m.\u001b[0m\u001b[0mreshape\u001b[0m\u001b[0;34m(\u001b[0m\u001b[0mnh\u001b[0m\u001b[0;34m,\u001b[0m \u001b[0;36m64\u001b[0m\u001b[0;34m,\u001b[0m \u001b[0;36m64\u001b[0m\u001b[0;34m,\u001b[0m \u001b[0;36m64\u001b[0m\u001b[0;34m,\u001b[0m \u001b[0;36m512\u001b[0m\u001b[0;34m)\u001b[0m\u001b[0;34m\u001b[0m\u001b[0;34m\u001b[0m\u001b[0m\n\u001b[0;32m----> 3\u001b[0;31m \u001b[0mattentions\u001b[0m \u001b[0;34m=\u001b[0m \u001b[0mnn\u001b[0m\u001b[0;34m.\u001b[0m\u001b[0mfunctional\u001b[0m\u001b[0;34m.\u001b[0m\u001b[0minterpolate\u001b[0m\u001b[0;34m(\u001b[0m\u001b[0mattentions\u001b[0m\u001b[0;34m.\u001b[0m\u001b[0munsqueeze\u001b[0m\u001b[0;34m(\u001b[0m\u001b[0;36m0\u001b[0m\u001b[0;34m)\u001b[0m\u001b[0;34m,\u001b[0m \u001b[0mscale_factor\u001b[0m\u001b[0;34m=\u001b[0m\u001b[0;36m2\u001b[0m\u001b[0;34m,\u001b[0m \u001b[0mmode\u001b[0m\u001b[0;34m=\u001b[0m\u001b[0;34m\"nearest\"\u001b[0m\u001b[0;34m)\u001b[0m\u001b[0;34m[\u001b[0m\u001b[0;36m0\u001b[0m\u001b[0;34m]\u001b[0m\u001b[0;34m.\u001b[0m\u001b[0mcpu\u001b[0m\u001b[0;34m(\u001b[0m\u001b[0;34m)\u001b[0m\u001b[0;34m.\u001b[0m\u001b[0mnumpy\u001b[0m\u001b[0;34m(\u001b[0m\u001b[0;34m)\u001b[0m\u001b[0;34m\u001b[0m\u001b[0;34m\u001b[0m\u001b[0m\n\u001b[0m\u001b[1;32m      4\u001b[0m \u001b[0;34m\u001b[0m\u001b[0m\n\u001b[1;32m      5\u001b[0m \u001b[0;31m# save attentions heatmaps\u001b[0m\u001b[0;34m\u001b[0m\u001b[0;34m\u001b[0m\u001b[0m\n",
      "\u001b[0;32m/usr/local/lib/python3.9/site-packages/torch/nn/functional.py\u001b[0m in \u001b[0;36minterpolate\u001b[0;34m(input, size, scale_factor, mode, align_corners, recompute_scale_factor, antialias)\u001b[0m\n\u001b[1;32m   3940\u001b[0m         \u001b[0;32mraise\u001b[0m \u001b[0mNotImplementedError\u001b[0m\u001b[0;34m(\u001b[0m\u001b[0;34m\"Got 5D input, but bilinear mode needs 4D input\"\u001b[0m\u001b[0;34m)\u001b[0m\u001b[0;34m\u001b[0m\u001b[0;34m\u001b[0m\u001b[0m\n\u001b[1;32m   3941\u001b[0m \u001b[0;34m\u001b[0m\u001b[0m\n\u001b[0;32m-> 3942\u001b[0;31m     raise NotImplementedError(\n\u001b[0m\u001b[1;32m   3943\u001b[0m         \u001b[0;34m\"Input Error: Only 3D, 4D and 5D input Tensors supported\"\u001b[0m\u001b[0;34m\u001b[0m\u001b[0;34m\u001b[0m\u001b[0m\n\u001b[1;32m   3944\u001b[0m         \u001b[0;34m\" (got {}D) for the modes: nearest | linear | bilinear | bicubic | trilinear | area | nearest-exact\"\u001b[0m\u001b[0;34m\u001b[0m\u001b[0;34m\u001b[0m\u001b[0m\n",
      "\u001b[0;31mNotImplementedError\u001b[0m: Input Error: Only 3D, 4D and 5D input Tensors supported (got 6D) for the modes: nearest | linear | bilinear | bicubic | trilinear | area | nearest-exact (got nearest)"
     ]
    }
   ],
   "source": [
    "import torch.nn as nn\n",
    "attentions = attentions.reshape(nh, 64, 64, 64, 512)\n",
    "attentions = nn.functional.interpolate(attentions.unsqueeze(0), scale_factor=2, mode=\"nearest\")[0].cpu().numpy()\n",
    "\n",
    "# save attentions heatmaps\n",
    "print(attentions.shape)"
   ]
  },
  {
   "cell_type": "code",
   "execution_count": null,
   "metadata": {},
   "outputs": [],
   "source": []
  }
 ],
 "metadata": {
  "interpreter": {
   "hash": "aee8b7b246df8f9039afb4144a1f6fd8d2ca17a180786b69acc140d282b71a49"
  },
  "kernelspec": {
   "display_name": "Python 3.9.12 64-bit",
   "language": "python",
   "name": "python3"
  },
  "language_info": {
   "codemirror_mode": {
    "name": "ipython",
    "version": 3
   },
   "file_extension": ".py",
   "mimetype": "text/x-python",
   "name": "python",
   "nbconvert_exporter": "python",
   "pygments_lexer": "ipython3",
   "version": "3.9.12"
  },
  "orig_nbformat": 4
 },
 "nbformat": 4,
 "nbformat_minor": 2
}
